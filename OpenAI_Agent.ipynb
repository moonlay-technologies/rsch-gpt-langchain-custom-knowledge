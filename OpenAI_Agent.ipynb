{
 "cells": [
  {
   "cell_type": "code",
   "execution_count": 3,
   "metadata": {},
   "outputs": [],
   "source": [
    "# Import library\n",
    "import pandas as pd\n",
    "import os\n",
    "\n",
    "from langchain.llms import OpenAI\n",
    "from langchain.agents import create_csv_agent\n",
    "\n",
    "from langchain.utilities import SQLDatabase\n",
    "from langchain_experimental.sql import SQLDatabaseChain"
   ]
  },
  {
   "cell_type": "code",
   "execution_count": 4,
   "metadata": {},
   "outputs": [],
   "source": [
    "# OpenAI API\n",
    "from dotenv import load_dotenv\n",
    "load_dotenv('envi.env')\n",
    "OPENAI_API_KEY = os.getenv(\"OPENAI_API_KEY\")"
   ]
  },
  {
   "cell_type": "code",
   "execution_count": 48,
   "metadata": {},
   "outputs": [
    {
     "name": "stderr",
     "output_type": "stream",
     "text": [
      "/Users/astridnadyaa/opt/anaconda3/envs/pytorch/lib/python3.9/site-packages/langchain_experimental/sql/base.py:75: UserWarning: Directly instantiating an SQLDatabaseChain with an llm is deprecated. Please instantiate with llm_chain argument or using the from_llm class method.\n",
      "  warnings.warn(\n"
     ]
    }
   ],
   "source": [
    "# Database Path\n",
    "dburl = \"sqlite:////sqlite/employee_moonlay.db\"\n",
    "\n",
    "# Connect to SqlLite Server\n",
    "db = SQLDatabase.from_uri(dburl)\n",
    "llm = OpenAI(model=\"text-davinci-003\", temperature=0)\n",
    "db_chain = SQLDatabaseChain(llm=llm, database=db, verbose=True)"
   ]
  },
  {
   "cell_type": "code",
   "execution_count": 6,
   "metadata": {},
   "outputs": [
    {
     "name": "stdout",
     "output_type": "stream",
     "text": [
      "\n",
      "\n",
      "\u001b[1m> Entering new SQLDatabaseChain chain...\u001b[0m\n",
      "What is group_id = 4 stands for?\n",
      "SQLQuery:\u001b[32;1m\u001b[1;3mSELECT group_name FROM emp_group WHERE id = 4;\u001b[0m\n",
      "SQLResult: \u001b[33;1m\u001b[1;3m[('Software Tailor Group',)]\u001b[0m\n",
      "Answer:\u001b[32;1m\u001b[1;3mGroup_id 4 stands for Software Tailor Group.\u001b[0m\n",
      "\u001b[1m> Finished chain.\u001b[0m\n"
     ]
    },
    {
     "data": {
      "text/plain": [
       "'Group_id 4 stands for Software Tailor Group.'"
      ]
     },
     "execution_count": 6,
     "metadata": {},
     "output_type": "execute_result"
    }
   ],
   "source": [
    "# Run Agent\n",
    "db_chain.run(\"What is group_id = 4 stands for?\")"
   ]
  }
 ],
 "metadata": {
  "kernelspec": {
   "display_name": "pytorch",
   "language": "python",
   "name": "python3"
  },
  "language_info": {
   "codemirror_mode": {
    "name": "ipython",
    "version": 3
   },
   "file_extension": ".py",
   "mimetype": "text/x-python",
   "name": "python",
   "nbconvert_exporter": "python",
   "pygments_lexer": "ipython3",
   "version": "3.9.18"
  },
  "orig_nbformat": 4
 },
 "nbformat": 4,
 "nbformat_minor": 2
}
